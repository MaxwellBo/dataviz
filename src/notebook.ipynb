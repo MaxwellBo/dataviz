{
 "cells": [
  {
   "cell_type": "code",
   "execution_count": null,
   "metadata": {},
   "outputs": [],
   "source": [
    "import fastf1\n",
    "import pandas as pd"
   ]
  },
  {
   "cell_type": "code",
   "execution_count": null,
   "metadata": {},
   "outputs": [],
   "source": [
    "YEARS = [2024] # fix to include 2022 ground effect\n",
    "\n",
    "acc = []\n",
    "\n",
    "for year in YEARS:\n",
    "  events = fastf1.events.get_event_schedule(year)\n",
    "\n",
    "  for i, event in events.iterrows():\n",
    "    if event.is_testing():\n",
    "      continue\n",
    "\n",
    "    session = fastf1.get_session(year, event['RoundNumber'], 'Race')\n",
    "    session.load(telemetry=True)\n",
    "\n",
    "    for driver in session.drivers:\n",
    "      try:\n",
    "        df = session.laps.pick_drivers(driver).get_pos_data().add_driver_ahead()\n",
    "\n",
    "        df['DriverId'] = driver\n",
    "        df['DriverName'] = session.get_driver(driver).FullName\n",
    "        df['RoundNumber'] = event['RoundNumber']\n",
    "        df['Country'] = event['Country']\n",
    "        df['Location'] = event['Location']\n",
    "        df['OfficialEventName'] = event['OfficialEventName']\n",
    "        # df['EventDate'] = event['EventDate']\n",
    "        df['EventName'] = event['EventName']\n",
    "        df['EventFormat'] = event['EventFormat']\n",
    "        \n",
    "        acc.append(df)\n",
    "      except Exception as e:\n",
    "        pass\n",
    "\n",
    "df = pd.concat(acc, ignore_index=True)\n",
    "df\n"
   ]
  },
  {
   "cell_type": "code",
   "execution_count": null,
   "metadata": {
    "vscode": {
     "languageId": "javascript"
    }
   },
   "outputs": [],
   "source": [
    "dff = df[df['DistanceToDriverAhead'] < 5]\n",
    "dff"
   ]
  },
  {
   "cell_type": "code",
   "execution_count": null,
   "metadata": {},
   "outputs": [],
   "source": [
    "import sys\n",
    "\n",
    "dff.to_parquet('output.parquet', index=False)\n",
    "\n",
    "with open('output.parquet', 'rb') as f:\n",
    "    sys.stdout.buffer.write(f.read())\n"
   ]
  },
  {
   "cell_type": "code",
   "execution_count": null,
   "metadata": {},
   "outputs": [],
   "source": [
    "import pandas as pd\n",
    "import numpy as np\n",
    "\n",
    "# Create a sample DataFrame with DistanceToDriverAhead column\n",
    "data = {\n",
    "    'Time': [1, 2, 3, 4, 5, 6, 7, 8, 9, 10],\n",
    "    'DriverAhead': ['Hamilton', 'Hamilton', 'Verstappen', 'Verstappen', None, \n",
    "                   'Leclerc', 'Leclerc', None, 'Sainz', 'Sainz'],\n",
    "    'DistanceToDriverAhead': [300, 250, 600, 550, np.nan, 400, 350, np.nan, 700, 650],\n",
    "    'OtherData': ['A', 'B', 'C', 'D', 'E', 'F', 'G', 'H', 'I', 'J']\n",
    "}\n",
    "df = pd.DataFrame(data)\n",
    "\n",
    "# Display the original DataFrame\n",
    "# print(\"Original DataFrame:\")\n",
    "# print(df)\n",
    "# print(\"\\n\")\n",
    "\n",
    "# Create a mask with all our conditions:\n",
    "# 1. DriverAhead changes from previous row\n",
    "# 2. Current row has a driver ahead (not NaN)\n",
    "# 3. Previous row had a driver ahead (not NaN)\n",
    "# 4. Previous row had DistanceToDriverAhead < 500\n",
    "mask = (df['DriverAhead'].shift() != df['DriverAhead']) & \\\n",
    "       (df['DriverAhead'].notna()) & \\\n",
    "       (df['DriverAhead'].shift().notna()) & \\\n",
    "       (df['DistanceToDriverAhead'].shift() < 500)\n",
    "\n",
    "# Include the first row if it has a driver ahead\n",
    "first_row_mask = df.index == 0\n",
    "if len(df) > 0 and pd.notna(df.loc[0, 'DriverAhead']):\n",
    "    mask = mask | first_row_mask\n",
    "\n",
    "# Filter the DataFrame\n",
    "filtered_df = df[mask]\n",
    "filtered_df = filtered_df.reset_index(drop=True)\n",
    "\n",
    "# Display the filtered DataFrame\n",
    "# print(\"Filtered DataFrame (only qualifying driver-to-driver transitions):\")\n",
    "# print(filtered_df)"
   ]
  }
 ],
 "metadata": {
  "kernelspec": {
   "display_name": ".venv",
   "language": "python",
   "name": "python3"
  },
  "language_info": {
   "codemirror_mode": {
    "name": "ipython",
    "version": 3
   },
   "file_extension": ".py",
   "mimetype": "text/x-python",
   "name": "python",
   "nbconvert_exporter": "python",
   "pygments_lexer": "ipython3",
   "version": "3.13.2"
  }
 },
 "nbformat": 4,
 "nbformat_minor": 2
}
